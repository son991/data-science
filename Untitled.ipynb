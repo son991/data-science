{
 "cells": [
  {
   "cell_type": "markdown",
   "id": "234519a5-89f1-4f3f-aaa2-e6d84dde8d34",
   "metadata": {},
   "source": [
    "#Data Science"
   ]
  },
  {
   "cell_type": "markdown",
   "id": "ea2d3090-2124-4b26-a3d4-1a6b7da4dfb0",
   "metadata": {},
   "source": [
    "## Introduction\n",
    "This notebook explores basic data science concepts"
   ]
  },
  {
   "cell_type": "markdown",
   "id": "8f311180-25ed-4078-a06c-f663623901e2",
   "metadata": {},
   "source": [
    "## Data Science Languages\n",
    "- Python\n",
    "- R\n",
    "- SQL"
   ]
  },
  {
   "cell_type": "markdown",
   "id": "574a8f47-e36a-4c1b-baf1-8df490e9f14e",
   "metadata": {},
   "source": [
    "## Data Science Libraries\n",
    "- NumPy\n",
    "- Pandas\n",
    "- Matplotlib\n",
    "- TensorFlow"
   ]
  },
  {
   "cell_type": "markdown",
   "id": "b7605f50-dd69-48a2-b3d6-21d0072d64d6",
   "metadata": {},
   "source": [
    "## Data Science Tools\n",
    "\n",
    "| Tool          | Purpose                        |\n",
    "|---------------|--------------------------------|\n",
    "| Jupyter       | Development Environment        |\n",
    "| RStudio       | IDE for R                      |\n",
    "| Apache Spark  | Big Data Processing            |\n",
    "| Tableau       | Data Visualization             |\n"
   ]
  },
  {
   "cell_type": "markdown",
   "id": "22e487b7-6db7-41cf-8259-aec5fe38b3b4",
   "metadata": {},
   "source": [
    "## Arithmetic Expression Examples\n",
    "Below are some basic arithmetic expressions in Python.\n"
   ]
  },
  {
   "cell_type": "code",
   "execution_count": null,
   "id": "d998d2a4-3679-4319-aff7-68ef9ab73028",
   "metadata": {},
   "outputs": [],
   "source": [
    "# Multiplication and addition example\n",
    "x = 7\n",
    "y = 25\n",
    "result = (x * y) + 20\n",
    "result\n"
   ]
  },
  {
   "cell_type": "code",
   "execution_count": 2,
   "id": "52cb62e7-2b9d-4e3b-9e79-59d678927cc5",
   "metadata": {},
   "outputs": [
    {
     "data": {
      "text/plain": [
       "4.0"
      ]
     },
     "execution_count": 2,
     "metadata": {},
     "output_type": "execute_result"
    }
   ],
   "source": [
    "# Convert minutes to hours\n",
    "minutes = 240\n",
    "hours = minutes / 60\n",
    "hours\n"
   ]
  },
  {
   "cell_type": "markdown",
   "id": "3dc4db45-efce-48ed-b10c-373dde65f576",
   "metadata": {},
   "source": [
    "## Objectives\n",
    "- Explore data science languages and libraries\n",
    "- Using some arithmetic expressions in Python\n",
    "- Converting time\n"
   ]
  },
  {
   "cell_type": "markdown",
   "id": "551acdf4-6ef6-407e-83c3-ee32659cdcbf",
   "metadata": {},
   "source": [
    "## Author\n",
    "Son Dong Hu\n"
   ]
  }
 ],
 "metadata": {
  "kernelspec": {
   "display_name": "Python 3 (ipykernel)",
   "language": "python",
   "name": "python3"
  },
  "language_info": {
   "codemirror_mode": {
    "name": "ipython",
    "version": 3
   },
   "file_extension": ".py",
   "mimetype": "text/x-python",
   "name": "python",
   "nbconvert_exporter": "python",
   "pygments_lexer": "ipython3",
   "version": "3.12.4"
  }
 },
 "nbformat": 4,
 "nbformat_minor": 5
}
